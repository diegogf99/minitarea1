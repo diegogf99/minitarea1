{
  "nbformat": 4,
  "nbformat_minor": 0,
  "metadata": {
    "colab": {
      "name": "minitarea1_alumnos.ipynb",
      "version": "0.3.2",
      "provenance": []
    },
    "kernelspec": {
      "name": "python3",
      "display_name": "Python 3"
    }
  },
  "cells": [
    {
      "metadata": {
        "id": "m-GSytk-24pP",
        "colab_type": "text"
      },
      "cell_type": "markdown",
      "source": [
        "# EI2001: Ciencia de Datos en Astronomía\n",
        "**Profesores:** Pía Cortés, Daniela Barrientos, Matías Suazo, Matías Mattamala\n",
        "\n",
        "## Minitarea 1: Repaso de python\n",
        "\n",
        "**Objetivos:** \n",
        "1. Repasar conceptos básicos y \"soltar la mano\" con Python\n",
        "2. Comprender el uso de Google Colab\n",
        "3. Integración de Google Colab con GitHub\n",
        "\n",
        "**Instrucciones:**\n",
        "0. Lean cuidadosamente todo lo que viene ahora\n",
        "1. Para hacer esta tarea tienen que hacer un **fork** del repositorio en sus cuentas de GitHub.\n",
        "2. Luego deben habilitar sus cuentas de [Google Colab](https://colab.research.google.com) (cuenta Google requerida)\n",
        "3. Abrir Google Colab y seleccionar \"abrir un archivo desde GitHub\". Deben seleccionar su cuenta Github y escoger el repositorio que corresponde al fork que hicieron.\n",
        "4. Si todo sale bien, debería abrirse una copia de este notebook en su cuenta de Google Colab.\n",
        "5. Se adjuntan 6 mini actividades a completar. TODAS son necesarias y deben completar lo que se va pidiendo.\n",
        "6. Cada vez que completen un ítem, deben guardar un avance en su fork de GitHub, de modo de **respaldar cada avance significativo**. Usen comentarios coherentes con cada respaldo \"Sección 1 completa\", \"Tarea terminada\", no solamente el que pone por defecto."
      ]
    },
    {
      "metadata": {
        "id": "X0NK2VoI4bH-",
        "colab_type": "text"
      },
      "cell_type": "markdown",
      "source": [
        "## 1. Variables\n",
        "\n",
        "Declara la variable `AU` (por Unidad Astronómica en inglés) y asignale su valor correspondiente en kilómetros.\n",
        "Declara la variable `radio_tierra` y también asígnale su valor en kilómetros."
      ]
    },
    {
      "metadata": {
        "id": "B2ekV_QHBmzZ",
        "colab_type": "code",
        "colab": {}
      },
      "cell_type": "code",
      "source": [
        "AU = 149597870.7\n",
        "radio_tierra = 6371"
      ],
      "execution_count": 0,
      "outputs": []
    },
    {
      "metadata": {
        "id": "ICYbu84fBo-J",
        "colab_type": "text"
      },
      "cell_type": "markdown",
      "source": [
        "## 2. Listas\n",
        "Declara las siguientes listas, buscando la información correspondiente en internet:\n",
        "\n",
        "1. `planetas` con strings correspondientes a los planetas del sistema solar\n",
        "2. `radio_planetas`, con numeros decimales correspondientes a los radios (o radio medio) de los planetas (en kms), en el mismo orden que los escribiste anteriormente\n",
        "3. `distancia_planetas`, con números decimales correspondientes a la distancia de cada planeta al sol (en kms)\n",
        "\n",
        "Por último, también declara las variable `num_planetas`, `num_radios` y `num_distancias` con el número de elementos de cada lista, obtenido usando funciones de Python. \n",
        "\n",
        "Usa estos números para guardar en la variable `checksum` un valor booleano que indique si los tres valores son iguales, y printealo en pantalla de forma tal que diga _\"Checksum: Todas las listas tienen el mismo tamaño\"_ si el resultado es `True` y _\"Checksum: ERROR: NO todas las listas tienen el mismo tamaño!\"_, si no coinciden.\n",
        "\n",
        "\n",
        "\n",
        "(Dato freak: checksum es un tipo de prueba que se realiza al transferir datos por internet para comprobar que los datos recibidos/enviados tienen el mismo tamaño que deberían. [Más información](https://es.wikipedia.org/wiki/Suma_de_verificaci%C3%B3n))"
      ]
    },
    {
      "metadata": {
        "id": "ggrfJEh8B2dR",
        "colab_type": "code",
        "outputId": "a067ad87-7a6b-42a4-b77e-9ca9e7d8f69c",
        "colab": {
          "base_uri": "https://localhost:8080/",
          "height": 34
        }
      },
      "cell_type": "code",
      "source": [
        "planetas = ['mercurio','venus','tierra','marte','jupiter','saturno','urano','neptuno'] \n",
        "radio_planetas = [2439.7 , 6051.8 , 6371 , 3389.5 , 69911 , 58232 , 25362 , 24622]\n",
        "distancia_planetas = [57909175 , 108208930 , 149597870 , 227936640 , 778412010 , 1426725400 , 2870972200 , 4498252900]\n",
        "num_planetas = len(planetas)\n",
        "num_radios = len(radio_planetas)\n",
        "num_distancias = len(distancia_planetas)\n",
        "\n",
        "def checksum():\n",
        "  if num_planetas == num_radios == num_distancias:\n",
        "    return 'Checksum: Todas las listas tienen el mismo tamaño'\n",
        "  else:\n",
        "    return ('Checksum: ERROR: NO todas las listas tienen el mismo tamaño!')\n",
        "print (checksum())"
      ],
      "execution_count": 2,
      "outputs": [
        {
          "output_type": "stream",
          "text": [
            "Checksum: Todas las listas tienen el mismo tamaño\n"
          ],
          "name": "stdout"
        }
      ]
    },
    {
      "metadata": {
        "id": "FCeFgFPzlCXz",
        "colab_type": "text"
      },
      "cell_type": "markdown",
      "source": [
        "## 3. Clases\n",
        "Crea una clase `Planeta` que:\n",
        "\n",
        "- Tenga las variables internas `nombre`, `radio` y `distancia`, donde el primero es el nombre del planeta, el segundo su radio y el tercero la distancia del planeta al Sol. \n",
        "- El constructor de la clase debe recibir estos tres parámetros al crear un objeto `Planeta`.\n",
        "- Adicionalmente, la clase debe poseer una función `info` que retorne un `string` con el siguiente texto : _NombreDelPlaneta, radio=9999 [km], distancia=9999 [km]_, donde el nombre del planeta y el radio deben obtenerse de las variables internas de la clase.\n",
        "\n",
        "\n",
        "Prueba la clase planeta creando el planeta `vulcano` usando los siguientes datos del ficticio planeta [Vulcano](https://es.wikipedia.org/wiki/Vulcano_(planeta_hipot%C3%A9tico):\n",
        "- **Nombre:** Vulcano\n",
        "- **Radio:** 90 km\n",
        "- **Distancia al sol:** 15,000,000 [km]\n",
        "\n",
        "y printea el `string` que entrega la función `info`."
      ]
    },
    {
      "metadata": {
        "id": "7Q3_QbQKlpQA",
        "colab_type": "code",
        "outputId": "3120cc29-e54a-4550-8530-ff6c7aa5aadb",
        "colab": {
          "base_uri": "https://localhost:8080/",
          "height": 34
        }
      },
      "cell_type": "code",
      "source": [
        "# Define acá la clase Planetabb\n",
        "class Planeta:\n",
        "  def __init__(self,nombre,radio,distancia):\n",
        "    self.nombre = nombre\n",
        "    self.radio = radio\n",
        "    self.distancia = distancia\n",
        "  def info(self):\n",
        "    print(str(self.nombre)+',','radio='+str(self.radio)+'[km],','distancia='+str(self.distancia)+'[km]')\n",
        "  \n",
        "  \n",
        "# aca creamos una instancia de vulcano como Planeta\n",
        "vulcano = Planeta(\"Vulcano\", 90, 15000000)\n",
        "vulcano.info()"
      ],
      "execution_count": 3,
      "outputs": [
        {
          "output_type": "stream",
          "text": [
            "Vulcano, radio=90[km], distancia=15000000[km]\n"
          ],
          "name": "stdout"
        }
      ]
    },
    {
      "metadata": {
        "id": "h_1Ai1jeB7WT",
        "colab_type": "text"
      },
      "cell_type": "markdown",
      "source": [
        "## 4. Diccionarios\n",
        "Usando las listas de planetas, radios y distancias crea un diccionario `dict_planetas` en que cada _llave_ sea el nombre del planeta, y el valor asignado sea un objeto `Planeta` que se cree usando la información respectiva de cada uno. \n",
        "\n",
        "Prueba que todo esté correcto printeando la información de todos los planetas."
      ]
    },
    {
      "metadata": {
        "id": "u2apsioWCN5_",
        "colab_type": "code",
        "colab": {}
      },
      "cell_type": "code",
      "source": [
        "dict_planetas={}\n",
        "for i in range(0,8):\n",
        "  dict_planetas[planetas[i]]=Planeta(planetas[i],radio_planetas[i],distancia_planetas[i])\n"
      ],
      "execution_count": 0,
      "outputs": []
    },
    {
      "metadata": {
        "id": "n1nhqXDibk1E",
        "colab_type": "text"
      },
      "cell_type": "markdown",
      "source": [
        "## 5. Graficos en Python\n",
        "_(Este es un spoiler de la próxima clase)_\n",
        "\n",
        "Grafica todos los planetas alineados, considerando que el sol está en la posición (0,0). Te servirán las siguientes funciones de Python, usando el _Planeta Vulcano_  que creaste anteriormente como ejemplo. \n",
        "\n",
        "**Usa el bloque de abajo sólo como referencia, tu código deberás escribirlo en el bloque de abajo**"
      ]
    },
    {
      "metadata": {
        "id": "VHtuRLhQq9pG",
        "colab_type": "code",
        "outputId": "c5607676-f913-4ac6-f801-207a90eb538b",
        "colab": {
          "base_uri": "https://localhost:8080/",
          "height": 410
        }
      },
      "cell_type": "code",
      "source": [
        "# Matplotlib es una libreria que sirve para ahcer graficos como en MATLAB\n",
        "import matplotlib.pyplot as plt\n",
        "\n",
        "\n",
        "# La parte de abajo usa las funciones de matplotlib para graficar un planeta\n",
        "# Primero creamos una figura donde pondremos los objetos\n",
        "fig1 = plt.figure()\n",
        "# Despues creamos el dibujo del planeta como un gráfico de un sólo punto, usando la función PLOT\n",
        "# Primero la coordenada X\n",
        "# el segundo valor es la coordenada Y (usamos 0 por simplicidad)\n",
        "# el tercer valor indica que en vez de hacer un gráfico de líneas, usaremos puntos\n",
        "# el ultimo valor, markersize, indica el tamaño del que queremos dibujar el punto\n",
        "plt.plot(vulcano.distancia, 0, 'o', markersize=vulcano.radio)\n",
        "\n",
        "# La función TEXT nos permite poner un texto\n",
        "# Primero va la coordenada X\n",
        "# Segundo la coordenada Y\n",
        "# Tercera es el texto\n",
        "# Cuarto es la orientación del texto\n",
        "# Finalmente el tamaño del texto\n",
        "plt.text(vulcano.distancia, 0.015, vulcano.info(), rotation=-10, size=12)\n",
        "\n",
        "\n",
        "# Por ultimo ponemos la información que no puede faltar nunca en un gráfico: las etiquetas y titulo\n",
        "plt.xlabel('Distancia al sol [kms]')\n",
        "plt.ylabel('Distancia al sol [kms]')\n",
        "plt.title('Posición de los planetas')"
      ],
      "execution_count": 5,
      "outputs": [
        {
          "output_type": "stream",
          "text": [
            "Vulcano, radio=90[km], distancia=15000000[km]\n"
          ],
          "name": "stdout"
        },
        {
          "output_type": "execute_result",
          "data": {
            "text/plain": [
              "Text(0.5, 1.0, 'Posición de los planetas')"
            ]
          },
          "metadata": {
            "tags": []
          },
          "execution_count": 5
        },
        {
          "output_type": "display_data",
          "data": {
            "image/png": "[encoded data removed]",
            "text/plain": [
              "<Figure size 576x396 with 1 Axes>"
            ]
          },
          "metadata": {
            "tags": []
          }
        }
      ]
    },
    {
      "metadata": {
        "id": "TxPDNv2Rwskp",
        "colab_type": "text"
      },
      "cell_type": "markdown",
      "source": [
        "**Pon tu gráfico de los planetas acá abajo**\n",
        "\n",
        "Hint 1: Si tienes problemas para visualizar los planetas, prueba normalizando los radios de los planetas por una distancia \"conveniente\" como las que buscaste en la primera parte. Lo mismo para las distancias de cada planeta al sol."
      ]
    },
    {
      "metadata": {
        "id": "Z6P5s7DKrK6h",
        "colab_type": "code",
        "outputId": "4f4f13e6-ef28-415c-b1f7-e95fed87a7e7",
        "colab": {
          "base_uri": "https://localhost:8080/",
          "height": 529
        }
      },
      "cell_type": "code",
      "source": [
        "fig2 = plt.figure()\n",
        "# Despues creamos el dibujo del planeta como un gráfico de un sólo punto, usando la función PLOT\n",
        "# Primero la coordenada X\n",
        "# el segundo valor es la coordenada Y (usamos 0 por simplicidad)\n",
        "# el tercer valor indica que en vez de hacer un gráfico de líneas, usaremos puntos\n",
        "# el ultimo valor, markersize, indica el tamaño del que queremos dibujar el punto\n",
        "plt.plot(dict_planetas.get('mercurio').distancia,0,'o', markersize=dict_planetas.get('mercurio').radio/1000)\n",
        "plt.plot(dict_planetas.get('venus').distancia,0, 'o', markersize=dict_planetas.get('venus').radio/1000)\n",
        "plt.plot(dict_planetas.get('tierra').distancia, 0,'o', markersize=dict_planetas.get('tierra').radio/1000)\n",
        "plt.plot(dict_planetas.get('marte').distancia,0, 'o', markersize=dict_planetas.get('marte').radio/1000)\n",
        "plt.plot(dict_planetas.get('jupiter').distancia,0, 'o', markersize=dict_planetas.get('jupiter').radio/1000)\n",
        "plt.plot(dict_planetas.get('saturno').distancia, 0,'o', markersize=dict_planetas.get('saturno').radio/1000)\n",
        "plt.plot(dict_planetas.get('urano').distancia,0, 'o', markersize=dict_planetas.get('urano').radio/1000)\n",
        "plt.plot(dict_planetas.get('neptuno').distancia,0, 'o', markersize=dict_planetas.get('neptuno').radio/1000)\n",
        "# La función TEXT nos permite poner un texto\n",
        "# Primero va la coordenada X\n",
        "# Segundo la coordenada Y\n",
        "# Tercera es el texto\n",
        "# Cuarto es la orientación del texto\n",
        "# Finalmente el tamaño del texto\n",
        "plt.text(dict_planetas.get('mercurio').distancia, -0.015, dict_planetas.get('mercurio').info(), rotation=-10, size=12)\n",
        "plt.text(dict_planetas.get('venus').distancia, -0.015, dict_planetas.get('venus').info(), rotation=-10, size=12)\n",
        "plt.text(dict_planetas.get('tierra').distancia, -0.015, dict_planetas.get('tierra').info(), rotation=-10, size=12)\n",
        "plt.text(dict_planetas.get('marte').distancia, -0.015, dict_planetas.get('marte').info(), rotation=-10, size=12)\n",
        "plt.text(dict_planetas.get('jupiter').distancia, -0.015, dict_planetas.get('jupiter').info(), rotation=-10, size=12)\n",
        "plt.text(dict_planetas.get('saturno').distancia, -0.015, dict_planetas.get('saturno').info(), rotation=-10, size=12)\n",
        "plt.text(dict_planetas.get('urano').distancia, -0.015, dict_planetas.get('urano').info(), rotation=-10, size=12)\n",
        "plt.text(dict_planetas.get('neptuno').distancia, -0.015, dict_planetas.get('neptuno').info(), rotation=-10, size=12)\n",
        "\n",
        "# Por ultimo ponemos la información que no puede faltar nunca en un gráfico: las etiquetas y titulo\n",
        "plt.xlabel('Distancia al sol [kms]')\n",
        "plt.ylabel('Distancia al sol [kms]')\n",
        "plt.title('Posición de los planetas')"
      ],
      "execution_count": 6,
      "outputs": [
        {
          "output_type": "stream",
          "text": [
            "mercurio, radio=2439.7[km], distancia=57909175[km]\n",
            "venus, radio=6051.8[km], distancia=108208930[km]\n",
            "tierra, radio=6371[km], distancia=149597870[km]\n",
            "marte, radio=3389.5[km], distancia=227936640[km]\n",
            "jupiter, radio=69911[km], distancia=778412010[km]\n",
            "saturno, radio=58232[km], distancia=1426725400[km]\n",
            "urano, radio=25362[km], distancia=2870972200[km]\n",
            "neptuno, radio=24622[km], distancia=4498252900[km]\n"
          ],
          "name": "stdout"
        },
        {
          "output_type": "execute_result",
          "data": {
            "text/plain": [
              "Text(0.5, 1.0, 'Posición de los planetas')"
            ]
          },
          "metadata": {
            "tags": []
          },
          "execution_count": 6
        },
        {
          "output_type": "display_data",
          "data": {
            "image/png": "[encoded data removed]",
            "text/plain": [
              "<Figure size 576x396 with 1 Axes>"
            ]
          },
          "metadata": {
            "tags": []
          }
        }
      ]
    },
    {
      "metadata": {
        "id": "T5dkOv6-1AZ1",
        "colab_type": "text"
      },
      "cell_type": "markdown",
      "source": [
        "## 6. Bonus: Ponte creativ@\n",
        "En esta última parte te pedimos que hagas algún aporte entretenido al trabajo anterior. No olvides comentar adecuadamente el código que generes, ya que tiene que quedar claro qué estas haciendo.\n",
        "\n",
        "Algunas ideas incluyen colorear los planetas con el color más parecido que se pueda, o cambiar sus posiciones espaciales, agregar el sol, entre otras cosas. \n",
        "\n",
        "\n",
        "Este es tu momento de brillar."
      ]
    },
    {
      "metadata": {
        "id": "M2zqXpR12SDy",
        "colab_type": "code",
        "outputId": "cca8540e-df6b-4433-ad06-4011e03d7c01",
        "colab": {
          "base_uri": "https://localhost:8080/",
          "height": 790
        }
      },
      "cell_type": "code",
      "source": [
        "from math import *\n",
        "\n",
        "fig3 = plt.figure(figsize=[20,10],facecolor = 'w', edgecolor = 'b')\n",
        "#en la distancia de los planetas (x) traté de hacer una especie de escala logaritmica\n",
        "#se agregaron dos representantes de los planetas enanos :c\n",
        "#se agrandó el tamaño del gráfico\n",
        "#se agregaron 3 de las lunas de jupiter y 1 luna de saturno, para comparar sus tamaños relativos con los planetas enanos\n",
        "#se modificó el color de los planetas para \"asemejar\" a los reales\n",
        "\n",
        "plt.plot(log(778412010),-0.002, 'w-o', markersize=1821.6/500)\n",
        "plt.plot(log(778412010),0.002, 'w-o', markersize=1821.6/500)\n",
        "plt.plot(log(dict_planetas.get('mercurio').distancia),0,'k-o', markersize=dict_planetas.get('mercurio').radio/500)\n",
        "plt.plot(log(dict_planetas.get('venus').distancia),0, 'm-o', markersize=dict_planetas.get('venus').radio/500)\n",
        "plt.plot(log(dict_planetas.get('tierra').distancia), 0,'b-o', markersize=dict_planetas.get('tierra').radio/500)\n",
        "plt.plot(log(dict_planetas.get('marte').distancia),0, 'r-o', markersize=dict_planetas.get('marte').radio/500)\n",
        "plt.plot(log(418900000),0, 'k-o', markersize=472.5/500) #ceres\n",
        "plt.plot(log(dict_planetas.get('jupiter').distancia),0, 'm-o', markersize=dict_planetas.get('jupiter').radio/500)\n",
        "plt.plot(log(778412010),0.0007, 'k-o', markersize=1821.6/500) #io\n",
        "plt.plot(log(778412019),-0.0002, 'k-o', markersize=1560.8/500)#europa\n",
        "plt.plot(log(798418010),-0.0007, 'k-o', markersize=2634.1/500)#ganimedes\n",
        "plt.plot(log(dict_planetas.get('saturno').distancia), 0,'y-o', markersize=dict_planetas.get('saturno').radio/500)\n",
        "plt.plot(log(dict_planetas.get('saturno').distancia), 0.0006,'k-o', markersize=2574.7/500) #titan\n",
        "plt.plot(log(dict_planetas.get('urano').distancia),0, 'c-o', markersize=dict_planetas.get('urano').radio/500)\n",
        "plt.plot(log(dict_planetas.get('neptuno').distancia),0, 'b-o', markersize=dict_planetas.get('neptuno').radio/500)\n",
        "plt.plot(log(5913520000),0, 'k-o', markersize=1188.3/500) #pluton\n",
        "\n",
        "ceres = Planeta('ceres',472.5,418900000)\n",
        "pluton = Planeta('pluton',1199.3,5913520000)\n",
        "io = Planeta('io',1821.6,778412010)\n",
        "\n",
        "plt.text(0, -0.015, dict_planetas.get('mercurio').info(), rotation=-10, size=12)\n",
        "plt.text(0, -0.015, dict_planetas.get('venus').info(), rotation=-10, size=12)\n",
        "plt.text(0, -0.015, dict_planetas.get('tierra').info(), rotation=-10, size=12)\n",
        "plt.text(0, -0.015, dict_planetas.get('marte').info(), rotation=-10, size=12)\n",
        "plt.text(0, -0.015, ceres.info(), rotation=-10, size=12)\n",
        "plt.text(0, -0.015, dict_planetas.get('jupiter').info(), rotation=-10, size=12)\n",
        "plt.text(0, -0.015, dict_planetas.get('saturno').info(), rotation=-10, size=12)\n",
        "plt.text(0, -0.015, dict_planetas.get('urano').info(), rotation=-10, size=12)\n",
        "plt.text(0, -0.015, pluton.info(), rotation=-10, size=12)\n",
        "\n",
        "plt.xlabel('Distancia al sol [kms]')\n",
        "plt.ylabel('Distancia al sol [kms]')\n",
        "plt.title('Posición de los planetas')"
      ],
      "execution_count": 84,
      "outputs": [
        {
          "output_type": "stream",
          "text": [
            "mercurio, radio=2439.7[km], distancia=57909175[km]\n",
            "venus, radio=6051.8[km], distancia=108208930[km]\n",
            "tierra, radio=6371[km], distancia=149597870[km]\n",
            "marte, radio=3389.5[km], distancia=227936640[km]\n",
            "ceres, radio=472.5[km], distancia=418900000[km]\n",
            "jupiter, radio=69911[km], distancia=778412010[km]\n",
            "saturno, radio=58232[km], distancia=1426725400[km]\n",
            "urano, radio=25362[km], distancia=2870972200[km]\n",
            "pluton, radio=1199.3[km], distancia=5913520000[km]\n"
          ],
          "name": "stdout"
        },
        {
          "output_type": "execute_result",
          "data": {
            "text/plain": [
              "Text(0.5, 1.0, 'Posición de los planetas')"
            ]
          },
          "metadata": {
            "tags": []
          },
          "execution_count": 84
        },
        {
          "output_type": "display_data",
          "data": {
            "image/png": "[encoded data removed]",
            "text/plain": [
              "<Figure size 1440x720 with 1 Axes>"
            ]
          },
          "metadata": {
            "tags": []
          }
        }
      ]
    }
  ]
}